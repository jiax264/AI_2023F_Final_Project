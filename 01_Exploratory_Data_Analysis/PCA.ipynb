{
 "cells": [
  {
   "cell_type": "code",
   "execution_count": 67,
   "id": "2026e1bb",
   "metadata": {},
   "outputs": [],
   "source": [
    "import pandas as pd\n",
    "import numpy as np\n",
    "import random as rd\n",
    "from sklearn.decomposition import PCA\n",
    "from sklearn.preprocessing import StandardScaler\n",
    "import matplotlib.pyplot as plt \n",
    "from sklearn.preprocessing import LabelEncoder\n",
    "import datetime\n",
    "from sklearn.decomposition import PCA"
   ]
  },
  {
   "cell_type": "code",
   "execution_count": 68,
   "id": "cdf4d60b",
   "metadata": {},
   "outputs": [],
   "source": [
    "pd.set_option('display.max_rows', None)\n",
    "pd.set_option('display.max_columns', None)\n",
    "pd.set_option('display.width', None)\n",
    "pd.set_option('display.max_colwidth', None)"
   ]
  },
  {
   "cell_type": "code",
   "execution_count": 69,
   "id": "a1a29d5b",
   "metadata": {},
   "outputs": [],
   "source": [
    "folder = \"../00_Raw_Data/\"\n",
    "\n",
    "# Generate filenames from 2015_Q1 to 2022_Q4\n",
    "years = range(2015, 2023)\n",
    "quarters = range(1, 5)\n",
    "\n",
    "files = [\"{}_Q{}_Traffic_Crashes.csv\".format(year, quarter) for year in years for quarter in quarters]\n",
    "\n",
    "dfs = [pd.read_csv(folder + file) for file in files]\n",
    "df = pd.concat(dfs, ignore_index=True)"
   ]
  },
  {
   "cell_type": "code",
   "execution_count": 70,
   "id": "eda8776c",
   "metadata": {},
   "outputs": [],
   "source": [
    "df['collision_date'] = pd.to_datetime(df['collision_date'], format='%m/%d/%Y %I:%M:%S %p')\n",
    "df['date'] = df['collision_date'].dt.date\n",
    "\n",
    "df['day_of_week'] = df['collision_date'].dt.dayofweek # 0: Monday - 6: Sunday\n",
    "df['weekend'] = df['day_of_week'].apply(lambda x: 1 if x in [5, 6] else 0)\n",
    "\n",
    "df['time'] = df['collision_date'].dt.time\n",
    "df['hour'] = df['collision_date'].dt.hour\n",
    "df['month'] = df['collision_date'].dt.month\n",
    "df['year'] = df['collision_date'].dt.year\n",
    "df['covid'] = (df['date'] >= pd.Timestamp('2020-03-15').date()).astype(int)\n",
    "\n",
    "def time_window(hour):\n",
    "    if 23 <= hour or hour < 5:\n",
    "        return 'late night'\n",
    "    elif 5 <= hour < 11:\n",
    "        return 'morning'\n",
    "    elif 11 <= hour < 17:\n",
    "        return 'afternoon'\n",
    "    elif 17 <= hour < 23:\n",
    "        return 'night'\n",
    "    else:\n",
    "        return 'unknown' \n",
    "df['time_window'] = df['hour'].apply(time_window)\n",
    "\n",
    "columns_to_convert = ['pedestrian', 'bicycle', 'scooter', 'hitrun', 'parking']\n",
    "\n",
    "for column in columns_to_convert:\n",
    "    df[column] = df[column].map({'yes': 1, 'no': 0})"
   ]
  },
  {
   "cell_type": "code",
   "execution_count": 71,
   "id": "a79d88d0",
   "metadata": {},
   "outputs": [],
   "source": [
    "df['manner_of_crash'] = df['manner_of_crash'].fillna('Unknown/Missing')\n",
    "df['manner_of_crash'] = df['manner_of_crash'].replace(['Missing', 'Unknown'], 'Unknown/Missing')\n",
    "crash_onehot = pd.get_dummies(df['manner_of_crash'], prefix='crash')\n",
    "df = pd.concat([df, crash_onehot], axis=1)\n",
    "df.drop('manner_of_crash', axis=1, inplace=True)\n",
    "\n",
    "# top_100_roads = df['roadway_name'].value_counts().head(100).index\n",
    "\n",
    "# df['roadway_grouped'] = np.where(df['roadway_name'].isin(top_100_roads), df['roadway_name'], 'Other')\n",
    "# roadway_onehot = pd.get_dummies(df['roadway_grouped'], prefix='road')\n",
    "# df = pd.concat([df, roadway_onehot], axis=1)\n",
    "# df.drop('roadway_grouped', axis=1, inplace=True)\n",
    "df.drop('roadway_name', axis=1, inplace=True)\n",
    "\n",
    "df['intersect_type'].replace(['OTHER', 'Missing', 'Unknown'], 'Unknown/Other', inplace=True)\n",
    "intersect_type_onehot = pd.get_dummies(df['intersect_type'], prefix='intersect_type')\n",
    "df = pd.concat([df, intersect_type_onehot], axis=1)\n",
    "df.drop('intersect_type', axis=1, inplace=True)\n",
    "\n",
    "df['relation_to_junction'].replace(['Missing', 'OtherLocation', 'Unknown'], 'Unknown/Other', inplace=True)\n",
    "relation_onehot = pd.get_dummies(df['relation_to_junction'], prefix='relation_to_junction')\n",
    "df = pd.concat([df, relation_onehot], axis=1)\n",
    "df.drop('relation_to_junction', axis=1, inplace=True)\n",
    "\n",
    "df['city'] = df['city'].fillna('Unknown')\n",
    "city_onehot = pd.get_dummies(df['city'], prefix='city')\n",
    "df = pd.concat([df, city_onehot], axis=1)\n",
    "df.drop('city', axis=1, inplace=True)"
   ]
  },
  {
   "cell_type": "code",
   "execution_count": 72,
   "id": "97917677",
   "metadata": {},
   "outputs": [],
   "source": [
    "df['intersection_indicator'] = df['intersection_indicator'].fillna(\"N\")\n",
    "df['intersection_indicator'].replace(\"Missing\", \"N\", inplace=True)\n",
    "mapping = {\"N\": 0, \"Y\": 1}\n",
    "df['intersection_indicator'] = df['intersection_indicator'].map(mapping)\n",
    "df['intersection_indicator'] = df['intersection_indicator'].astype('int64')\n",
    "\n",
    "# Combine \"Campus\" and \"OHO\" categories\n",
    "df['mou'] = df['mou'].replace('OHO', 'Campus')\n",
    "\n",
    "# Now, encode \"Campus\" as 1 and \"False\" as 0\n",
    "df['mou'] = df['mou'].apply(lambda x: 1 if x == 'Campus' else 0)\n",
    "\n",
    "df['work_zone_type'] = df['work_zone_type'].apply(lambda x: 0 if x == \"Missing\" or x == \"Unknown\" or x is None else 1)"
   ]
  },
  {
   "cell_type": "code",
   "execution_count": 73,
   "id": "ec0f0848",
   "metadata": {},
   "outputs": [],
   "source": [
    "def simplify_weather(weather):\n",
    "    if pd.isna(weather):\n",
    "        return 'Unknown/Other'\n",
    "    elif 'Snow' in weather:\n",
    "        return 'Snow'\n",
    "    elif 'Sleet/Hail' in weather:\n",
    "        return 'Sleet/Hail'\n",
    "    elif 'Rain' in weather:\n",
    "        return 'Rain'\n",
    "    elif weather in ['Fog', 'Smoke', 'Smog']:\n",
    "        return 'Fog'\n",
    "    elif 'Cloudy' in weather:\n",
    "        return 'Cloudy'\n",
    "    elif weather == 'Clear':\n",
    "        return 'Clear'\n",
    "    elif weather in ['Missing', 'Unknown', 'Other']:\n",
    "        return 'Unknown/Other'\n",
    "    else:\n",
    "        return 'Other Conditions'\n",
    "\n",
    "df['simplified_weather'] = df['weather_condition(s)'].apply(simplify_weather)\n",
    "df = pd.get_dummies(df, columns=['simplified_weather'], prefix='weather')\n",
    "df.drop('weather_condition(s)', axis=1, inplace=True)"
   ]
  },
  {
   "cell_type": "code",
   "execution_count": 74,
   "id": "4e9701cc",
   "metadata": {},
   "outputs": [],
   "source": [
    "def bool_to_int(df):\n",
    "    for col in df.select_dtypes(['bool']).columns:\n",
    "        df[col] = df[col].astype(int)\n",
    "    return df\n",
    "\n",
    "df = bool_to_int(df)"
   ]
  },
  {
   "cell_type": "code",
   "execution_count": 75,
   "id": "4a2f49d2",
   "metadata": {},
   "outputs": [],
   "source": [
    "columns_to_scale = ['latitude', 'longitude', 'vehicles_involved', 'number_injured', 'number_dead', 'year']\n",
    "scaler = StandardScaler()\n",
    "df[columns_to_scale] = scaler.fit_transform(df[columns_to_scale])\n",
    "df['day_of_week_sin'] = np.sin(df['day_of_week'] * (2. * np.pi / 7))\n",
    "df['day_of_week_cos'] = np.cos(df['day_of_week'] * (2. * np.pi / 7))\n",
    "df.drop('day_of_week', axis=1, inplace=True)\n",
    "df['hour_sin'] = np.sin(df['hour'] * (2. * np.pi / 24))\n",
    "df['hour_cos'] = np.cos(df['hour'] * (2. * np.pi / 24))\n",
    "df.drop('hour', axis=1, inplace=True)\n",
    "df['month_sin'] = np.sin((df['month'] - 1) * (2. * np.pi / 12))\n",
    "df['month_cos'] = np.cos((df['month'] - 1) * (2. * np.pi / 12))\n",
    "df.drop('month', axis=1, inplace=True)"
   ]
  },
  {
   "cell_type": "code",
   "execution_count": 76,
   "id": "b2c9fda7",
   "metadata": {},
   "outputs": [],
   "source": [
    "df['time'] = df['time'].astype(str)\n",
    "df['time'] = df['time'].str.strip()\n",
    "has_time_df = df[df['time'] != \"00:00:00\"]"
   ]
  },
  {
   "cell_type": "code",
   "execution_count": 77,
   "id": "d2334e41",
   "metadata": {},
   "outputs": [],
   "source": [
    "columns_to_drop = [\n",
    "    \"master_record_number\", \"agency\", \"agency_tracking_number\", \"county\", \n",
    "    \"collision_date\", \"roadway_suffix\", \"roadway_number\", \"roadway_local_id\", \n",
    "    \"distance_from_reference\", \"miles-feet_indicator\", \"direction_from_reference\",\n",
    "    \"intersection_road_name\", \"intersection_road_name_suffix\", \"intersection_road_number\",\n",
    "    \"intersection_local_id\", \"mile_marker\", \"interchange_related_indicator\", \n",
    "    \"construction_maintenance_zone\", \"construction_maintenance_zone_location\",\n",
    "    \"fatal_case_number\", \"date\", \"officer_first_name\", \"officer_last_name\", \"time\"\n",
    "]\n",
    "\n",
    "has_time_df = has_time_df.drop(columns=columns_to_drop)"
   ]
  },
  {
   "cell_type": "code",
   "execution_count": 78,
   "id": "c9c6d1e9",
   "metadata": {},
   "outputs": [],
   "source": [
    "has_time_no_time_window_df = has_time_df.drop('time_window', axis=1)"
   ]
  },
  {
   "cell_type": "code",
   "execution_count": 79,
   "id": "62dee8e7",
   "metadata": {
    "scrolled": false
   },
   "outputs": [
    {
     "data": {
      "image/png": "[encoded data removed]",
      "text/plain": [
       "<Figure size 640x480 with 1 Axes>"
      ]
     },
     "metadata": {},
     "output_type": "display_data"
    },
    {
     "data": {
      "image/png": "[encoded data removed]",
      "text/plain": [
       "<Figure size 640x480 with 1 Axes>"
      ]
     },
     "metadata": {},
     "output_type": "display_data"
    },
    {
     "name": "stdout",
     "output_type": "stream",
     "text": [
      "latitude                                               7.000267e-01\n",
      "longitude                                              7.000086e-01\n",
      "year                                                   1.317355e-01\n",
      "covid                                                  4.108305e-02\n",
      "hour_sin                                               1.433830e-02\n",
      "number_injured                                         9.853985e-03\n",
      "intersection_indicator                                 8.006384e-03\n",
      "month_sin                                              7.927625e-03\n",
      "number_dead                                            7.401510e-03\n",
      "city_Nashville                                         7.157202e-03\n",
      "intersect_type_Not at Intersection                     7.124266e-03\n",
      "month_cos                                              6.989708e-03\n",
      "vehicles_involved                                      6.726956e-03\n",
      "intersect_type_T-Intersection                          5.596920e-03\n",
      "city_Antioch                                           5.232730e-03\n",
      "relation_to_junction_Non-Junction                      4.903398e-03\n",
      "relation_to_junction_Intersection                      4.724270e-03\n",
      "city_Madison                                           4.299699e-03\n",
      "parking                                                4.043530e-03\n",
      "city_Not in City Limit                                 3.913663e-03\n",
      "weather_Clear                                          3.747865e-03\n",
      "weather_Unknown/Other                                  3.725986e-03\n",
      "hitrun                                                 3.426733e-03\n",
      "day_of_week_sin                                        3.071605e-03\n",
      "crash_Angle                                            2.299658e-03\n",
      "intersect_type_Four-Way                                2.179885e-03\n",
      "hour_cos                                               1.742838e-03\n",
      "day_of_week_cos                                        1.319512e-03\n",
      "crash_Not Collision with Motor Vehicle in Transport    1.265334e-03\n",
      "weekend                                                1.187343e-03\n",
      "city_Old Hickory                                       1.171283e-03\n",
      "mou                                                    9.527520e-04\n",
      "weather_Rain                                           9.180680e-04\n",
      "relation_to_junction_Intersection-Related              6.567280e-04\n",
      "crash_Rear to Side                                     6.302612e-04\n",
      "crash_Unknown/Missing                                  5.636663e-04\n",
      "crash_Other                                            5.469048e-04\n",
      "weather_Snow                                           4.669707e-04\n",
      "weather_Sleet/Hail                                     3.514790e-04\n",
      "crash_Sideswipe, Same Direction                        3.470076e-04\n",
      "city_Goodlettsville                                    3.459628e-04\n",
      "relation_to_junction_Driveway, Alley Access, etc       3.297476e-04\n",
      "relation_to_junction_Entrance/Exit Ramp Related        3.253448e-04\n",
      "crash_Rear to Rear                                     3.059939e-04\n",
      "relation_to_junction_Unknown/Other                     2.946255e-04\n",
      "city_Belle Meade                                       2.698110e-04\n",
      "intersect_type_Unknown/Other                           2.459230e-04\n",
      "city_Hermitage                                         2.341059e-04\n",
      "pedestrian                                             2.217532e-04\n",
      "city_Lakewood                                          1.443081e-04\n",
      "crash_HeadOn                                           1.256812e-04\n",
      "work_zone_type                                         1.089182e-04\n",
      "crash_Front to Rear                                    8.226425e-05\n",
      "weather_Cloudy                                         7.526257e-05\n",
      "intersect_type_Traffic Circle                          6.288486e-05\n",
      "intersect_type_Roundabout                              4.416400e-05\n",
      "intersect_type_Y-Intersection                          3.705645e-05\n",
      "city_Ridgetop                                          3.662775e-05\n",
      "city_Berry Hill                                        3.246454e-05\n",
      "city_OTHER                                             2.638429e-05\n",
      "city_Bellevue                                          2.592934e-05\n",
      "crash_Sideswipe, Opposite Direction                    2.423154e-05\n",
      "scooter                                                2.359426e-05\n",
      "relation_to_junction_AccelDecelLane                    2.320115e-05\n",
      "relation_to_junction_Rail Grade Crossing               1.740208e-05\n",
      "intersect_type_Five Point Or More                      1.539561e-05\n",
      "relation_to_junction_Crossover-Related                 1.531784e-05\n",
      "bicycle                                                1.304614e-05\n",
      "weather_Fog                                            1.266040e-05\n",
      "relation_to_junction_SharedUsePathOrTrail              1.134281e-05\n",
      "weather_Other Conditions                               1.018345e-05\n",
      "city_Whites Creek                                      6.399825e-06\n",
      "city_Joelton                                           5.170607e-06\n",
      "city_UNKNOWN                                           1.163766e-06\n",
      "city_Donelson                                          8.415905e-07\n",
      "city_Edenwold                                          7.583105e-07\n",
      "city_MILLERSVILLE                                      7.386951e-07\n",
      "city_Oak Hill                                          6.474420e-07\n",
      "city_Forest Hills                                      3.365664e-07\n",
      "dtype: float64\n"
     ]
    }
   ],
   "source": [
    "pca = PCA()  # You can specify, e.g., PCA(n_components=0.95) to get the number of components that explain 95% of the variance\n",
    "pca.fit(has_time_no_time_window_df)\n",
    "\n",
    "# Transform the scaled data using the PCA model\n",
    "pca_data = pca.transform(has_time_no_time_window_df)\n",
    "\n",
    "# Create a DataFrame with the PCA data\n",
    "# np.arange starts arrays from 0, so +1 to match the number convention starting from 1\n",
    "pca_df = pd.DataFrame(pca_data, columns=['PC' + str(i) for i in np.arange(has_time_no_time_window_df.shape[1]) + 1])\n",
    "\n",
    "# Plot the Scree plot\n",
    "per_var = np.round(pca.explained_variance_ratio_ * 100, decimals=1)\n",
    "labels = ['PC' + str(x) for x in range(1, len(per_var) + 1)]\n",
    "\n",
    "plt.bar(x=range(1, len(per_var) + 1), height=per_var, tick_label=labels)\n",
    "plt.ylabel('Percentage of Explained Variance')\n",
    "plt.xlabel('Principal Component')\n",
    "plt.title('Scree Plot')\n",
    "plt.show()\n",
    "\n",
    "# You can adjust the following code to plot any two PCs\n",
    "# Here we are plotting PC1 and PC2\n",
    "plt.scatter(pca_df['PC1'], pca_df['PC2'])\n",
    "plt.title('PCA Graph')\n",
    "plt.xlabel(f'PC1 - {per_var[0]}%')\n",
    "plt.ylabel(f'PC2 - {per_var[1]}%')\n",
    "plt.axhline(y=0, color='k', linestyle='--')\n",
    "plt.axvline(x=0, color='k', linestyle='--')\n",
    "plt.show()\n",
    "\n",
    "# To find out which features influence PC1 the most, you can look at the absolute values of the PCA components\n",
    "loading_scores = pd.Series(pca.components_[0], index=has_time_no_time_window_df.columns)  # Get the loading scores for PC1\n",
    "sorted_loading_scores = loading_scores.abs().sort_values(ascending=False)  # Sort the loading scores\n",
    "\n",
    "# Print the names of the features and their loading scores for PC1\n",
    "print(sorted_loading_scores)"
   ]
  },
  {
   "cell_type": "code",
   "execution_count": 82,
   "id": "62c4a694",
   "metadata": {},
   "outputs": [
    {
     "name": "stdout",
     "output_type": "stream",
     "text": [
      "   hitrun time_window  count  percentage\n",
      "0       0   afternoon  84422   38.901100\n",
      "1       0  late night  22238   10.247123\n",
      "2       0     morning  54277   25.010483\n",
      "3       0       night  56080   25.841294\n",
      "4       1   afternoon  18876   30.110065\n",
      "5       1  late night  15748   25.120434\n",
      "6       1     morning   9845   15.704259\n",
      "7       1       night  18221   29.065242\n"
     ]
    }
   ],
   "source": [
    "# Calculate the total counts for each 'hitrun' category\n",
    "total_counts = df.groupby('hitrun')['time_window'].count().reset_index(name='total')\n",
    "\n",
    "# Merge the total counts back to the combo_counts dataframe\n",
    "combo_counts = combo_counts.merge(total_counts, on='hitrun')\n",
    "\n",
    "# Calculate the percentage for each 'time_window' within each 'hitrun' category\n",
    "combo_counts['percentage'] = (combo_counts['count'] / combo_counts['total']) * 100\n",
    "\n",
    "# Display the updated dataframe\n",
    "print(combo_counts[['hitrun', 'time_window', 'count', 'percentage']])\n"
   ]
  },
  {
   "cell_type": "code",
   "execution_count": null,
   "id": "8f5bf0ab",
   "metadata": {},
   "outputs": [],
   "source": []
  },
  {
   "cell_type": "code",
   "execution_count": null,
   "id": "71e76649",
   "metadata": {},
   "outputs": [],
   "source": []
  },
  {
   "cell_type": "code",
   "execution_count": null,
   "id": "7944e5d2",
   "metadata": {},
   "outputs": [],
   "source": []
  },
  {
   "cell_type": "code",
   "execution_count": null,
   "id": "04967f99",
   "metadata": {},
   "outputs": [],
   "source": []
  }
 ],
 "metadata": {
  "kernelspec": {
   "display_name": "finalproj",
   "language": "python",
   "name": "finalproj"
  },
  "language_info": {
   "codemirror_mode": {
    "name": "ipython",
    "version": 3
   },
   "file_extension": ".py",
   "mimetype": "text/x-python",
   "name": "python",
   "nbconvert_exporter": "python",
   "pygments_lexer": "ipython3",
   "version": "3.9.12"
  }
 },
 "nbformat": 4,
 "nbformat_minor": 5
}
