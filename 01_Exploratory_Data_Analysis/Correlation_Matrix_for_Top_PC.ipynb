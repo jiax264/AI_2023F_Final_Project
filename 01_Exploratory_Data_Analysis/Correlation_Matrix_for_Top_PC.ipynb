{
 "cells": [
  {
   "cell_type": "code",
   "execution_count": 9,
   "id": "b540bce9",
   "metadata": {},
   "outputs": [],
   "source": [
    "import pandas as pd\n",
    "import numpy as np\n",
    "import random as rd\n",
    "from sklearn.decomposition import PCA\n",
    "from sklearn.preprocessing import StandardScaler\n",
    "import matplotlib.pyplot as plt \n",
    "from sklearn.preprocessing import LabelEncoder\n",
    "import datetime\n",
    "from sklearn.decomposition import PCA\n",
    "import matplotlib.pyplot as plt\n",
    "import plotly.express as px\n",
    "\n",
    "pd.set_option('display.max_rows', None)\n",
    "pd.set_option('display.max_columns', None)\n",
    "pd.set_option('display.width', None)\n",
    "pd.set_option('display.max_colwidth', None)"
   ]
  },
  {
   "cell_type": "code",
   "execution_count": 2,
   "id": "109f4011",
   "metadata": {},
   "outputs": [],
   "source": [
    "folder = \"../00_Raw_Data/\"\n",
    "\n",
    "# Generate filenames from 2015_Q1 to 2022_Q4\n",
    "years = range(2015, 2023)\n",
    "quarters = range(1, 5)\n",
    "\n",
    "files = [\"{}_Q{}_Traffic_Crashes.csv\".format(year, quarter) for year in years for quarter in quarters]\n",
    "\n",
    "dfs = [pd.read_csv(folder + file) for file in files]\n",
    "df = pd.concat(dfs, ignore_index=True)"
   ]
  },
  {
   "cell_type": "code",
   "execution_count": 3,
   "id": "a293e8fd",
   "metadata": {},
   "outputs": [],
   "source": [
    "df['collision_date'] = pd.to_datetime(df['collision_date'], format='%m/%d/%Y %I:%M:%S %p')\n",
    "df['date'] = df['collision_date'].dt.date\n",
    "\n",
    "df['day_of_week'] = df['collision_date'].dt.dayofweek # 0: Monday - 6: Sunday\n",
    "df['weekend'] = df['day_of_week'].apply(lambda x: 1 if x in [5, 6] else 0)\n",
    "\n",
    "df['time'] = df['collision_date'].dt.time\n",
    "df['hour'] = df['collision_date'].dt.hour\n",
    "df['day_of_month'] = df['collision_date'].dt.day\n",
    "df['month'] = df['collision_date'].dt.month\n",
    "df['year'] = df['collision_date'].dt.year\n",
    "df['covid'] = (df['date'] >= pd.Timestamp('2020-03-15').date()).astype(int)\n",
    "\n",
    "def time_window(hour):\n",
    "    if 23 <= hour or hour < 5:\n",
    "        return 'late night'\n",
    "    elif 5 <= hour < 11:\n",
    "        return 'morning'\n",
    "    elif 11 <= hour < 17:\n",
    "        return 'afternoon'\n",
    "    elif 17 <= hour < 23:\n",
    "        return 'night'\n",
    "    else:\n",
    "        return 'unknown' \n",
    "df['time_window'] = df['hour'].apply(time_window)\n",
    "\n",
    "columns_to_convert = ['pedestrian', 'bicycle', 'scooter', 'hitrun', 'parking']\n",
    "\n",
    "for column in columns_to_convert:\n",
    "    df[column] = df[column].map({'yes': 1, 'no': 0})\n",
    "    \n",
    "    \n",
    "df['manner_of_crash'] = df['manner_of_crash'].fillna('Unknown/Missing')\n",
    "df['manner_of_crash'] = df['manner_of_crash'].replace(['Missing', 'Unknown'], 'Unknown/Missing')\n",
    "crash_onehot = pd.get_dummies(df['manner_of_crash'], prefix='crash')\n",
    "df = pd.concat([df, crash_onehot], axis=1)\n",
    "df.drop('manner_of_crash', axis=1, inplace=True)\n",
    "\n",
    "df.drop('roadway_name', axis=1, inplace=True)\n",
    "\n",
    "df['intersect_type'].replace(['OTHER', 'Missing', 'Unknown'], 'Unknown/Other', inplace=True)\n",
    "intersect_type_onehot = pd.get_dummies(df['intersect_type'], prefix='intersect_type')\n",
    "df = pd.concat([df, intersect_type_onehot], axis=1)\n",
    "df.drop('intersect_type', axis=1, inplace=True)\n",
    "\n",
    "df['relation_to_junction'].replace(['Missing', 'OtherLocation', 'Unknown'], 'Unknown/Other', inplace=True)\n",
    "relation_onehot = pd.get_dummies(df['relation_to_junction'], prefix='relation_to_junction')\n",
    "df = pd.concat([df, relation_onehot], axis=1)\n",
    "df.drop('relation_to_junction', axis=1, inplace=True)\n",
    "\n",
    "df.drop('city', axis=1, inplace=True)\n",
    "\n",
    "df['intersection_indicator'] = df['intersection_indicator'].fillna(\"N\")\n",
    "df['intersection_indicator'].replace(\"Missing\", \"N\", inplace=True)\n",
    "mapping = {\"N\": 0, \"Y\": 1}\n",
    "df['intersection_indicator'] = df['intersection_indicator'].map(mapping)\n",
    "df['intersection_indicator'] = df['intersection_indicator'].astype('int64')\n",
    "\n",
    "# Combine \"Campus\" and \"OHO\" categories\n",
    "df['mou'] = df['mou'].replace('OHO', 'Campus')\n",
    "\n",
    "# Now, encode \"Campus\" as 1 and \"False\" as 0\n",
    "df['mou'] = df['mou'].apply(lambda x: 1 if x == 'Campus' else 0)\n",
    "\n",
    "df['work_zone_type'] = df['work_zone_type'].apply(lambda x: 0 if x == \"Missing\" or x == \"Unknown\" or x is None else 1)\n",
    "\n",
    "\n",
    "def simplify_weather(weather):\n",
    "    if pd.isna(weather):\n",
    "        return 'Unknown/Other'\n",
    "    elif 'Snow' in weather:\n",
    "        return 'Snow'\n",
    "    elif 'Sleet/Hail' in weather:\n",
    "        return 'Sleet/Hail'\n",
    "    elif 'Rain' in weather:\n",
    "        return 'Rain'\n",
    "    elif weather in ['Fog', 'Smoke', 'Smog']:\n",
    "        return 'Fog'\n",
    "    elif 'Cloudy' in weather:\n",
    "        return 'Cloudy'\n",
    "    elif weather == 'Clear':\n",
    "        return 'Clear'\n",
    "    elif weather in ['Missing', 'Unknown', 'Other']:\n",
    "        return 'Unknown/Other'\n",
    "    else:\n",
    "        return 'Other Conditions'\n",
    "\n",
    "df['simplified_weather'] = df['weather_condition(s)'].apply(simplify_weather)\n",
    "df = pd.get_dummies(df, columns=['simplified_weather'], prefix='weather')\n",
    "df.drop('weather_condition(s)', axis=1, inplace=True)\n",
    "\n",
    "def bool_to_int(df):\n",
    "    for col in df.select_dtypes(['bool']).columns:\n",
    "        df[col] = df[col].astype(int)\n",
    "    return df\n",
    "\n",
    "df = bool_to_int(df)\n",
    "\n",
    "columns_to_scale = ['latitude', 'longitude', 'vehicles_involved', 'number_injured', 'number_dead', 'year']\n",
    "scaler = StandardScaler()\n",
    "df[columns_to_scale] = scaler.fit_transform(df[columns_to_scale])\n",
    "\n",
    "df['time'] = df['time'].astype(str)\n",
    "df['time'] = df['time'].str.strip()\n",
    "has_time_df = df[df['time'] != \"00:00:00\"]\n",
    "\n",
    "columns_to_drop = [\n",
    "    \"master_record_number\", \"agency\", \"agency_tracking_number\", \"county\", \n",
    "    \"collision_date\", \"roadway_suffix\", \"roadway_number\", \"roadway_local_id\", \n",
    "    \"distance_from_reference\", \"miles-feet_indicator\", \"direction_from_reference\",\n",
    "    \"intersection_road_name\", \"intersection_road_name_suffix\", \"intersection_road_number\",\n",
    "    \"intersection_local_id\", \"mile_marker\", \"interchange_related_indicator\", \n",
    "    \"construction_maintenance_zone\", \"construction_maintenance_zone_location\",\n",
    "    \"fatal_case_number\", \"date\", \"officer_first_name\", \"officer_last_name\", \"time\"\n",
    "]\n",
    "\n",
    "has_time_df = has_time_df.drop(columns=columns_to_drop)"
   ]
  },
  {
   "cell_type": "code",
   "execution_count": 4,
   "id": "3d4d47f4",
   "metadata": {},
   "outputs": [
    {
     "name": "stdout",
     "output_type": "stream",
     "text": [
      "<class 'pandas.core.frame.DataFrame'>\n",
      "Int64Index: 262773 entries, 0 to 279706\n",
      "Data columns (total 57 columns):\n",
      " #   Column                                               Non-Null Count   Dtype  \n",
      "---  ------                                               --------------   -----  \n",
      " 0   vehicles_involved                                    262773 non-null  float64\n",
      " 1   number_injured                                       262773 non-null  float64\n",
      " 2   number_dead                                          262773 non-null  float64\n",
      " 3   latitude                                             262773 non-null  float64\n",
      " 4   longitude                                            262773 non-null  float64\n",
      " 5   intersection_indicator                               262773 non-null  int64  \n",
      " 6   work_zone_type                                       262773 non-null  int64  \n",
      " 7   pedestrian                                           262773 non-null  int64  \n",
      " 8   bicycle                                              262773 non-null  int64  \n",
      " 9   scooter                                              262773 non-null  int64  \n",
      " 10  parking                                              262773 non-null  int64  \n",
      " 11  hitrun                                               262773 non-null  int64  \n",
      " 12  mou                                                  262773 non-null  int64  \n",
      " 13  day_of_week                                          262773 non-null  int64  \n",
      " 14  weekend                                              262773 non-null  int64  \n",
      " 15  hour                                                 262773 non-null  int64  \n",
      " 16  day_of_month                                         262773 non-null  int64  \n",
      " 17  month                                                262773 non-null  int64  \n",
      " 18  year                                                 262773 non-null  float64\n",
      " 19  covid                                                262773 non-null  int64  \n",
      " 20  time_window                                          262773 non-null  object \n",
      " 21  crash_Angle                                          262773 non-null  uint8  \n",
      " 22  crash_Front to Rear                                  262773 non-null  uint8  \n",
      " 23  crash_HeadOn                                         262773 non-null  uint8  \n",
      " 24  crash_Not Collision with Motor Vehicle in Transport  262773 non-null  uint8  \n",
      " 25  crash_Other                                          262773 non-null  uint8  \n",
      " 26  crash_Rear to Rear                                   262773 non-null  uint8  \n",
      " 27  crash_Rear to Side                                   262773 non-null  uint8  \n",
      " 28  crash_Sideswipe, Opposite Direction                  262773 non-null  uint8  \n",
      " 29  crash_Sideswipe, Same Direction                      262773 non-null  uint8  \n",
      " 30  crash_Unknown/Missing                                262773 non-null  uint8  \n",
      " 31  intersect_type_Five Point Or More                    262773 non-null  uint8  \n",
      " 32  intersect_type_Four-Way                              262773 non-null  uint8  \n",
      " 33  intersect_type_Not at Intersection                   262773 non-null  uint8  \n",
      " 34  intersect_type_Roundabout                            262773 non-null  uint8  \n",
      " 35  intersect_type_T-Intersection                        262773 non-null  uint8  \n",
      " 36  intersect_type_Traffic Circle                        262773 non-null  uint8  \n",
      " 37  intersect_type_Unknown/Other                         262773 non-null  uint8  \n",
      " 38  intersect_type_Y-Intersection                        262773 non-null  uint8  \n",
      " 39  relation_to_junction_AccelDecelLane                  262773 non-null  uint8  \n",
      " 40  relation_to_junction_Crossover-Related               262773 non-null  uint8  \n",
      " 41  relation_to_junction_Driveway, Alley Access, etc     262773 non-null  uint8  \n",
      " 42  relation_to_junction_Entrance/Exit Ramp Related      262773 non-null  uint8  \n",
      " 43  relation_to_junction_Intersection                    262773 non-null  uint8  \n",
      " 44  relation_to_junction_Intersection-Related            262773 non-null  uint8  \n",
      " 45  relation_to_junction_Non-Junction                    262773 non-null  uint8  \n",
      " 46  relation_to_junction_Rail Grade Crossing             262773 non-null  uint8  \n",
      " 47  relation_to_junction_SharedUsePathOrTrail            262773 non-null  uint8  \n",
      " 48  relation_to_junction_Unknown/Other                   262773 non-null  uint8  \n",
      " 49  weather_Clear                                        262773 non-null  uint8  \n",
      " 50  weather_Cloudy                                       262773 non-null  uint8  \n",
      " 51  weather_Fog                                          262773 non-null  uint8  \n",
      " 52  weather_Other Conditions                             262773 non-null  uint8  \n",
      " 53  weather_Rain                                         262773 non-null  uint8  \n",
      " 54  weather_Sleet/Hail                                   262773 non-null  uint8  \n",
      " 55  weather_Snow                                         262773 non-null  uint8  \n",
      " 56  weather_Unknown/Other                                262773 non-null  uint8  \n",
      "dtypes: float64(6), int64(14), object(1), uint8(36)\n",
      "memory usage: 53.1+ MB\n"
     ]
    }
   ],
   "source": [
    "has_time_df.info()"
   ]
  },
  {
   "cell_type": "code",
   "execution_count": 12,
   "id": "b51645de",
   "metadata": {},
   "outputs": [],
   "source": [
    "columns_to_keep = [\n",
    "    'latitude', 'longitude', 'year', 'covid', 'number_injured',\n",
    "    'intersection_indicator', 'month', 'number_dead', 'vehicles_involved',\n",
    "    'parking', 'hitrun', 'day_of_week','crash_Angle','day_of_month', 'hour',\n",
    "    'day_of_week'\n",
    "]\n",
    "\n",
    "# Create a new DataFrame with the specified columns\n",
    "top_PC_df = has_time_df[columns_to_keep]"
   ]
  },
  {
   "cell_type": "code",
   "execution_count": 13,
   "id": "2ee0de61",
   "metadata": {},
   "outputs": [
    {
     "data": {
      "application/vnd.plotly.v1+json": {
       "config": {
        "plotlyServerURL": "https://plot.ly"
       },
       "data": [
        {
         "coloraxis": "coloraxis",
         "hovertemplate": "x: %{x}<br>y: %{y}<br>color: %{z}<extra></extra>",
         "name": "0",
         "type": "heatmap",
         "x": [
          "latitude",
          "longitude",
          "year",
          "covid",
          "number_injured",
          "intersection_indicator",
          "month",
          "number_dead",
          "vehicles_involved",
          "parking",
          "hitrun",
          "day_of_week",
          "crash_Angle",
          "day_of_month",
          "hour",
          "day_of_week"
         ],
         "xaxis": "x",
         "y": [
          "latitude",
          "longitude",
          "year",
          "covid",
          "number_injured",
          "intersection_indicator",
          "month",
          "number_dead",
          "vehicles_involved",
          "parking",
          "hitrun",
          "day_of_week",
          "crash_Angle",
          "day_of_month",
          "hour",
          "day_of_week"
         ],
         "yaxis": "y",
         "z": [
          [
           1,
           -0.9996105828695185,
           0.08635697005966549,
           0.044772489916806206,
           0.0013547800359385927,
           -0.011038760668804447,
           0.020221979898726497,
           0.0029478930901469177,
           0.004521837521066263,
           -0.025612163119464067,
           0.00371449117360016,
           0.0008593391859594821,
           0.003349695784457457,
           0.005638585907547228,
           0.015965051856754283,
           0.0008593391859594821
          ],
          [
           -0.9996105828695185,
           1,
           -0.08600466366023964,
           -0.04422393311879344,
           -0.0007031870770403777,
           0.011474697787602321,
           -0.020098408097504152,
           -0.0027896364865318186,
           -0.005054611472827958,
           0.025358169806378266,
           -0.003161587401928861,
           -0.0004733122988164598,
           -0.00362595384227352,
           -0.005576419151029909,
           -0.015607868099628682,
           -0.0004733122988164598
          ],
          [
           0.08635697005966549,
           -0.08600466366023964,
           1,
           0.7955211258828728,
           0.051462292229017194,
           -0.06973517839032631,
           -0.018091963541917718,
           0.020284310273454093,
           -0.0056755134609068935,
           0.004995089988650493,
           0.072318981245021,
           0.032218905638914316,
           0.042332753407624386,
           0.00040081529743055995,
           0.0002405025621544159,
           0.032218905638914316
          ],
          [
           0.044772489916806206,
           -0.04422393311879344,
           0.7955211258828728,
           1,
           0.056439265111384355,
           -0.04481428711917813,
           0.0690992586153369,
           0.022349338972775024,
           -0.021912966094926503,
           0.012364368730090182,
           0.07436296626510229,
           0.034724739340231986,
           0.03959048455013535,
           0.008731968446971087,
           0.011956704785993677,
           0.034724739340231986
          ],
          [
           0.0013547800359385927,
           -0.0007031870770403777,
           0.051462292229017194,
           0.056439265111384355,
           1,
           0.05313502193569619,
           0.014638577461930783,
           0.03133268285866763,
           0.12389119770270618,
           -0.06942852298184592,
           -0.10326897128436137,
           0.03390407027787062,
           0.09308960475193687,
           0.002636287071121658,
           0.026636568441501852,
           0.03390407027787062
          ],
          [
           -0.011038760668804447,
           0.011474697787602321,
           -0.06973517839032631,
           -0.04481428711917813,
           0.05313502193569619,
           1,
           -0.009565441593527945,
           -0.007190662572880235,
           0.038394070537798634,
           -0.1121356476272987,
           -0.045418344008467726,
           -0.001450850459492907,
           0.24316621929673105,
           -0.0025082096847781643,
           0.008986133735112478,
           -0.001450850459492907
          ],
          [
           0.020221979898726497,
           -0.020098408097504152,
           -0.018091963541917718,
           0.0690992586153369,
           0.014638577461930783,
           -0.009565441593527945,
           1,
           0.0009578327862791514,
           0.012743133196534497,
           -0.004990203899465795,
           0.006045248736352739,
           -0.006511352507663627,
           0.003173713298892572,
           0.00465801191471984,
           0.010441213872052137,
           -0.006511352507663627
          ],
          [
           0.0029478930901469177,
           -0.0027896364865318186,
           0.020284310273454093,
           0.022349338972775024,
           0.03133268285866763,
           -0.007190662572880235,
           0.0009578327862791514,
           1,
           -0.02907896735967378,
           -0.010416498464610634,
           -0.008439311359898335,
           0.010732864417091304,
           -0.005727357470911765,
           0.0008229323731096211,
           -0.0027996516940447364,
           0.010732864417091304
          ],
          [
           0.004521837521066263,
           -0.005054611472827958,
           -0.0056755134609068935,
           -0.021912966094926503,
           0.12389119770270618,
           0.038394070537798634,
           0.012743133196534497,
           -0.02907896735967378,
           1,
           -0.06910776846441476,
           0.039783091766647516,
           -0.04844193722887198,
           0.11968828588022906,
           -0.003874207685469729,
           0.056361722410771295,
           -0.04844193722887198
          ],
          [
           -0.025612163119464067,
           0.025358169806378266,
           0.004995089988650493,
           0.012364368730090182,
           -0.06942852298184592,
           -0.1121356476272987,
           -0.004990203899465795,
           -0.010416498464610634,
           -0.06910776846441476,
           1,
           0.1713772915007744,
           0.013789767889490493,
           -0.012782977717676823,
           0.0005008220026173363,
           0.0004452115143587245,
           0.013789767889490493
          ],
          [
           0.00371449117360016,
           -0.003161587401928861,
           0.072318981245021,
           0.07436296626510229,
           -0.10326897128436137,
           -0.045418344008467726,
           0.006045248736352739,
           -0.008439311359898335,
           0.039783091766647516,
           0.1713772915007744,
           1,
           0.05412181514611781,
           -0.025331630386566526,
           0.004154971326511481,
           0.03634821816098148,
           0.05412181514611781
          ],
          [
           0.0008593391859594821,
           -0.0004733122988164598,
           0.032218905638914316,
           0.034724739340231986,
           0.03390407027787062,
           -0.001450850459492907,
           -0.006511352507663627,
           0.010732864417091304,
           -0.04844193722887198,
           0.013789767889490493,
           0.05412181514611781,
           1,
           0.008678039709322016,
           -0.00028277036626843556,
           0.0014817685257622394,
           1
          ],
          [
           0.003349695784457457,
           -0.00362595384227352,
           0.042332753407624386,
           0.03959048455013535,
           0.09308960475193687,
           0.24316621929673105,
           0.003173713298892572,
           -0.005727357470911765,
           0.11968828588022906,
           -0.012782977717676823,
           -0.025331630386566526,
           0.008678039709322016,
           1,
           0.0003970200021492923,
           0.037710852241431406,
           0.008678039709322006
          ],
          [
           0.005638585907547228,
           -0.005576419151029909,
           0.00040081529743055995,
           0.008731968446971087,
           0.002636287071121658,
           -0.0025082096847781643,
           0.00465801191471984,
           0.0008229323731096211,
           -0.003874207685469729,
           0.0005008220026173363,
           0.004154971326511481,
           -0.00028277036626843556,
           0.0003970200021492923,
           1,
           0.0025042306716726707,
           -0.00028277036626843263
          ],
          [
           0.015965051856754283,
           -0.015607868099628682,
           0.0002405025621544159,
           0.011956704785993677,
           0.026636568441501852,
           0.008986133735112478,
           0.010441213872052137,
           -0.0027996516940447364,
           0.056361722410771295,
           0.0004452115143587245,
           0.03634821816098148,
           0.0014817685257622394,
           0.037710852241431406,
           0.0025042306716726707,
           1,
           0.0014817685257622404
          ],
          [
           0.0008593391859594821,
           -0.0004733122988164598,
           0.032218905638914316,
           0.034724739340231986,
           0.03390407027787062,
           -0.001450850459492907,
           -0.006511352507663627,
           0.010732864417091304,
           -0.04844193722887198,
           0.013789767889490493,
           0.05412181514611781,
           1,
           0.008678039709322006,
           -0.00028277036626843263,
           0.0014817685257622404,
           1
          ]
         ]
        }
       ],
       "layout": {
        "coloraxis": {
         "colorscale": [
          [
           0,
           "#0d0887"
          ],
          [
           0.1111111111111111,
           "#46039f"
          ],
          [
           0.2222222222222222,
           "#7201a8"
          ],
          [
           0.3333333333333333,
           "#9c179e"
          ],
          [
           0.4444444444444444,
           "#bd3786"
          ],
          [
           0.5555555555555556,
           "#d8576b"
          ],
          [
           0.6666666666666666,
           "#ed7953"
          ],
          [
           0.7777777777777778,
           "#fb9f3a"
          ],
          [
           0.8888888888888888,
           "#fdca26"
          ],
          [
           1,
           "#f0f921"
          ]
         ]
        },
        "margin": {
         "t": 60
        },
        "template": {
         "data": {
          "bar": [
           {
            "error_x": {
             "color": "#2a3f5f"
            },
            "error_y": {
             "color": "#2a3f5f"
            },
            "marker": {
             "line": {
              "color": "#E5ECF6",
              "width": 0.5
             },
             "pattern": {
              "fillmode": "overlay",
              "size": 10,
              "solidity": 0.2
             }
            },
            "type": "bar"
           }
          ],
          "barpolar": [
           {
            "marker": {
             "line": {
              "color": "#E5ECF6",
              "width": 0.5
             },
             "pattern": {
              "fillmode": "overlay",
              "size": 10,
              "solidity": 0.2
             }
            },
            "type": "barpolar"
           }
          ],
          "carpet": [
           {
            "aaxis": {
             "endlinecolor": "#2a3f5f",
             "gridcolor": "white",
             "linecolor": "white",
             "minorgridcolor": "white",
             "startlinecolor": "#2a3f5f"
            },
            "baxis": {
             "endlinecolor": "#2a3f5f",
             "gridcolor": "white",
             "linecolor": "white",
             "minorgridcolor": "white",
             "startlinecolor": "#2a3f5f"
            },
            "type": "carpet"
           }
          ],
          "choropleth": [
           {
            "colorbar": {
             "outlinewidth": 0,
             "ticks": ""
            },
            "type": "choropleth"
           }
          ],
          "contour": [
           {
            "colorbar": {
             "outlinewidth": 0,
             "ticks": ""
            },
            "colorscale": [
             [
              0,
              "#0d0887"
             ],
             [
              0.1111111111111111,
              "#46039f"
             ],
             [
              0.2222222222222222,
              "#7201a8"
             ],
             [
              0.3333333333333333,
              "#9c179e"
             ],
             [
              0.4444444444444444,
              "#bd3786"
             ],
             [
              0.5555555555555556,
              "#d8576b"
             ],
             [
              0.6666666666666666,
              "#ed7953"
             ],
             [
              0.7777777777777778,
              "#fb9f3a"
             ],
             [
              0.8888888888888888,
              "#fdca26"
             ],
             [
              1,
              "#f0f921"
             ]
            ],
            "type": "contour"
           }
          ],
          "contourcarpet": [
           {
            "colorbar": {
             "outlinewidth": 0,
             "ticks": ""
            },
            "type": "contourcarpet"
           }
          ],
          "heatmap": [
           {
            "colorbar": {
             "outlinewidth": 0,
             "ticks": ""
            },
            "colorscale": [
             [
              0,
              "#0d0887"
             ],
             [
              0.1111111111111111,
              "#46039f"
             ],
             [
              0.2222222222222222,
              "#7201a8"
             ],
             [
              0.3333333333333333,
              "#9c179e"
             ],
             [
              0.4444444444444444,
              "#bd3786"
             ],
             [
              0.5555555555555556,
              "#d8576b"
             ],
             [
              0.6666666666666666,
              "#ed7953"
             ],
             [
              0.7777777777777778,
              "#fb9f3a"
             ],
             [
              0.8888888888888888,
              "#fdca26"
             ],
             [
              1,
              "#f0f921"
             ]
            ],
            "type": "heatmap"
           }
          ],
          "heatmapgl": [
           {
            "colorbar": {
             "outlinewidth": 0,
             "ticks": ""
            },
            "colorscale": [
             [
              0,
              "#0d0887"
             ],
             [
              0.1111111111111111,
              "#46039f"
             ],
             [
              0.2222222222222222,
              "#7201a8"
             ],
             [
              0.3333333333333333,
              "#9c179e"
             ],
             [
              0.4444444444444444,
              "#bd3786"
             ],
             [
              0.5555555555555556,
              "#d8576b"
             ],
             [
              0.6666666666666666,
              "#ed7953"
             ],
             [
              0.7777777777777778,
              "#fb9f3a"
             ],
             [
              0.8888888888888888,
              "#fdca26"
             ],
             [
              1,
              "#f0f921"
             ]
            ],
            "type": "heatmapgl"
           }
          ],
          "histogram": [
           {
            "marker": {
             "pattern": {
              "fillmode": "overlay",
              "size": 10,
              "solidity": 0.2
             }
            },
            "type": "histogram"
           }
          ],
          "histogram2d": [
           {
            "colorbar": {
             "outlinewidth": 0,
             "ticks": ""
            },
            "colorscale": [
             [
              0,
              "#0d0887"
             ],
             [
              0.1111111111111111,
              "#46039f"
             ],
             [
              0.2222222222222222,
              "#7201a8"
             ],
             [
              0.3333333333333333,
              "#9c179e"
             ],
             [
              0.4444444444444444,
              "#bd3786"
             ],
             [
              0.5555555555555556,
              "#d8576b"
             ],
             [
              0.6666666666666666,
              "#ed7953"
             ],
             [
              0.7777777777777778,
              "#fb9f3a"
             ],
             [
              0.8888888888888888,
              "#fdca26"
             ],
             [
              1,
              "#f0f921"
             ]
            ],
            "type": "histogram2d"
           }
          ],
          "histogram2dcontour": [
           {
            "colorbar": {
             "outlinewidth": 0,
             "ticks": ""
            },
            "colorscale": [
             [
              0,
              "#0d0887"
             ],
             [
              0.1111111111111111,
              "#46039f"
             ],
             [
              0.2222222222222222,
              "#7201a8"
             ],
             [
              0.3333333333333333,
              "#9c179e"
             ],
             [
              0.4444444444444444,
              "#bd3786"
             ],
             [
              0.5555555555555556,
              "#d8576b"
             ],
             [
              0.6666666666666666,
              "#ed7953"
             ],
             [
              0.7777777777777778,
              "#fb9f3a"
             ],
             [
              0.8888888888888888,
              "#fdca26"
             ],
             [
              1,
              "#f0f921"
             ]
            ],
            "type": "histogram2dcontour"
           }
          ],
          "mesh3d": [
           {
            "colorbar": {
             "outlinewidth": 0,
             "ticks": ""
            },
            "type": "mesh3d"
           }
          ],
          "parcoords": [
           {
            "line": {
             "colorbar": {
              "outlinewidth": 0,
              "ticks": ""
             }
            },
            "type": "parcoords"
           }
          ],
          "pie": [
           {
            "automargin": true,
            "type": "pie"
           }
          ],
          "scatter": [
           {
            "marker": {
             "colorbar": {
              "outlinewidth": 0,
              "ticks": ""
             }
            },
            "type": "scatter"
           }
          ],
          "scatter3d": [
           {
            "line": {
             "colorbar": {
              "outlinewidth": 0,
              "ticks": ""
             }
            },
            "marker": {
             "colorbar": {
              "outlinewidth": 0,
              "ticks": ""
             }
            },
            "type": "scatter3d"
           }
          ],
          "scattercarpet": [
           {
            "marker": {
             "colorbar": {
              "outlinewidth": 0,
              "ticks": ""
             }
            },
            "type": "scattercarpet"
           }
          ],
          "scattergeo": [
           {
            "marker": {
             "colorbar": {
              "outlinewidth": 0,
              "ticks": ""
             }
            },
            "type": "scattergeo"
           }
          ],
          "scattergl": [
           {
            "marker": {
             "colorbar": {
              "outlinewidth": 0,
              "ticks": ""
             }
            },
            "type": "scattergl"
           }
          ],
          "scattermapbox": [
           {
            "marker": {
             "colorbar": {
              "outlinewidth": 0,
              "ticks": ""
             }
            },
            "type": "scattermapbox"
           }
          ],
          "scatterpolar": [
           {
            "marker": {
             "colorbar": {
              "outlinewidth": 0,
              "ticks": ""
             }
            },
            "type": "scatterpolar"
           }
          ],
          "scatterpolargl": [
           {
            "marker": {
             "colorbar": {
              "outlinewidth": 0,
              "ticks": ""
             }
            },
            "type": "scatterpolargl"
           }
          ],
          "scatterternary": [
           {
            "marker": {
             "colorbar": {
              "outlinewidth": 0,
              "ticks": ""
             }
            },
            "type": "scatterternary"
           }
          ],
          "surface": [
           {
            "colorbar": {
             "outlinewidth": 0,
             "ticks": ""
            },
            "colorscale": [
             [
              0,
              "#0d0887"
             ],
             [
              0.1111111111111111,
              "#46039f"
             ],
             [
              0.2222222222222222,
              "#7201a8"
             ],
             [
              0.3333333333333333,
              "#9c179e"
             ],
             [
              0.4444444444444444,
              "#bd3786"
             ],
             [
              0.5555555555555556,
              "#d8576b"
             ],
             [
              0.6666666666666666,
              "#ed7953"
             ],
             [
              0.7777777777777778,
              "#fb9f3a"
             ],
             [
              0.8888888888888888,
              "#fdca26"
             ],
             [
              1,
              "#f0f921"
             ]
            ],
            "type": "surface"
           }
          ],
          "table": [
           {
            "cells": {
             "fill": {
              "color": "#EBF0F8"
             },
             "line": {
              "color": "white"
             }
            },
            "header": {
             "fill": {
              "color": "#C8D4E3"
             },
             "line": {
              "color": "white"
             }
            },
            "type": "table"
           }
          ]
         },
         "layout": {
          "annotationdefaults": {
           "arrowcolor": "#2a3f5f",
           "arrowhead": 0,
           "arrowwidth": 1
          },
          "autotypenumbers": "strict",
          "coloraxis": {
           "colorbar": {
            "outlinewidth": 0,
            "ticks": ""
           }
          },
          "colorscale": {
           "diverging": [
            [
             0,
             "#8e0152"
            ],
            [
             0.1,
             "#c51b7d"
            ],
            [
             0.2,
             "#de77ae"
            ],
            [
             0.3,
             "#f1b6da"
            ],
            [
             0.4,
             "#fde0ef"
            ],
            [
             0.5,
             "#f7f7f7"
            ],
            [
             0.6,
             "#e6f5d0"
            ],
            [
             0.7,
             "#b8e186"
            ],
            [
             0.8,
             "#7fbc41"
            ],
            [
             0.9,
             "#4d9221"
            ],
            [
             1,
             "#276419"
            ]
           ],
           "sequential": [
            [
             0,
             "#0d0887"
            ],
            [
             0.1111111111111111,
             "#46039f"
            ],
            [
             0.2222222222222222,
             "#7201a8"
            ],
            [
             0.3333333333333333,
             "#9c179e"
            ],
            [
             0.4444444444444444,
             "#bd3786"
            ],
            [
             0.5555555555555556,
             "#d8576b"
            ],
            [
             0.6666666666666666,
             "#ed7953"
            ],
            [
             0.7777777777777778,
             "#fb9f3a"
            ],
            [
             0.8888888888888888,
             "#fdca26"
            ],
            [
             1,
             "#f0f921"
            ]
           ],
           "sequentialminus": [
            [
             0,
             "#0d0887"
            ],
            [
             0.1111111111111111,
             "#46039f"
            ],
            [
             0.2222222222222222,
             "#7201a8"
            ],
            [
             0.3333333333333333,
             "#9c179e"
            ],
            [
             0.4444444444444444,
             "#bd3786"
            ],
            [
             0.5555555555555556,
             "#d8576b"
            ],
            [
             0.6666666666666666,
             "#ed7953"
            ],
            [
             0.7777777777777778,
             "#fb9f3a"
            ],
            [
             0.8888888888888888,
             "#fdca26"
            ],
            [
             1,
             "#f0f921"
            ]
           ]
          },
          "colorway": [
           "#636efa",
           "#EF553B",
           "#00cc96",
           "#ab63fa",
           "#FFA15A",
           "#19d3f3",
           "#FF6692",
           "#B6E880",
           "#FF97FF",
           "#FECB52"
          ],
          "font": {
           "color": "#2a3f5f"
          },
          "geo": {
           "bgcolor": "white",
           "lakecolor": "white",
           "landcolor": "#E5ECF6",
           "showlakes": true,
           "showland": true,
           "subunitcolor": "white"
          },
          "hoverlabel": {
           "align": "left"
          },
          "hovermode": "closest",
          "mapbox": {
           "style": "light"
          },
          "paper_bgcolor": "white",
          "plot_bgcolor": "#E5ECF6",
          "polar": {
           "angularaxis": {
            "gridcolor": "white",
            "linecolor": "white",
            "ticks": ""
           },
           "bgcolor": "#E5ECF6",
           "radialaxis": {
            "gridcolor": "white",
            "linecolor": "white",
            "ticks": ""
           }
          },
          "scene": {
           "xaxis": {
            "backgroundcolor": "#E5ECF6",
            "gridcolor": "white",
            "gridwidth": 2,
            "linecolor": "white",
            "showbackground": true,
            "ticks": "",
            "zerolinecolor": "white"
           },
           "yaxis": {
            "backgroundcolor": "#E5ECF6",
            "gridcolor": "white",
            "gridwidth": 2,
            "linecolor": "white",
            "showbackground": true,
            "ticks": "",
            "zerolinecolor": "white"
           },
           "zaxis": {
            "backgroundcolor": "#E5ECF6",
            "gridcolor": "white",
            "gridwidth": 2,
            "linecolor": "white",
            "showbackground": true,
            "ticks": "",
            "zerolinecolor": "white"
           }
          },
          "shapedefaults": {
           "line": {
            "color": "#2a3f5f"
           }
          },
          "ternary": {
           "aaxis": {
            "gridcolor": "white",
            "linecolor": "white",
            "ticks": ""
           },
           "baxis": {
            "gridcolor": "white",
            "linecolor": "white",
            "ticks": ""
           },
           "bgcolor": "#E5ECF6",
           "caxis": {
            "gridcolor": "white",
            "linecolor": "white",
            "ticks": ""
           }
          },
          "title": {
           "x": 0.05
          },
          "xaxis": {
           "automargin": true,
           "gridcolor": "white",
           "linecolor": "white",
           "ticks": "",
           "title": {
            "standoff": 15
           },
           "zerolinecolor": "white",
           "zerolinewidth": 2
          },
          "yaxis": {
           "automargin": true,
           "gridcolor": "white",
           "linecolor": "white",
           "ticks": "",
           "title": {
            "standoff": 15
           },
           "zerolinecolor": "white",
           "zerolinewidth": 2
          }
         }
        },
        "title": {
         "text": "Correlation Matrix Heatmap"
        },
        "xaxis": {
         "anchor": "y",
         "constrain": "domain",
         "domain": [
          0,
          1
         ],
         "scaleanchor": "y"
        },
        "yaxis": {
         "anchor": "x",
         "autorange": "reversed",
         "constrain": "domain",
         "domain": [
          0,
          1
         ]
        }
       }
      },
      "text/html": [
       "<div>                            <div id=\"0560cc87-6a16-47da-a33e-4174d75eec34\" class=\"plotly-graph-div\" style=\"height:525px; width:100%;\"></div>            <script type=\"text/javascript\">                require([\"plotly\"], function(Plotly) {                    window.PLOTLYENV=window.PLOTLYENV || {};                                    if (document.getElementById(\"0560cc87-6a16-47da-a33e-4174d75eec34\")) {                    Plotly.newPlot(                        \"0560cc87-6a16-47da-a33e-4174d75eec34\",                        [{\"coloraxis\":\"coloraxis\",\"name\":\"0\",\"x\":[\"latitude\",\"longitude\",\"year\",\"covid\",\"number_injured\",\"intersection_indicator\",\"month\",\"number_dead\",\"vehicles_involved\",\"parking\",\"hitrun\",\"day_of_week\",\"crash_Angle\",\"day_of_month\",\"hour\",\"day_of_week\"],\"y\":[\"latitude\",\"longitude\",\"year\",\"covid\",\"number_injured\",\"intersection_indicator\",\"month\",\"number_dead\",\"vehicles_involved\",\"parking\",\"hitrun\",\"day_of_week\",\"crash_Angle\",\"day_of_month\",\"hour\",\"day_of_week\"],\"z\":[[1.0,-0.9996105828695185,0.08635697005966549,0.044772489916806206,0.0013547800359385927,-0.011038760668804447,0.020221979898726497,0.0029478930901469177,0.004521837521066263,-0.025612163119464067,0.00371449117360016,0.0008593391859594821,0.003349695784457457,0.005638585907547228,0.015965051856754283,0.0008593391859594821],[-0.9996105828695185,1.0,-0.08600466366023964,-0.04422393311879344,-0.0007031870770403777,0.011474697787602321,-0.020098408097504152,-0.0027896364865318186,-0.005054611472827958,0.025358169806378266,-0.003161587401928861,-0.0004733122988164598,-0.00362595384227352,-0.005576419151029909,-0.015607868099628682,-0.0004733122988164598],[0.08635697005966549,-0.08600466366023964,1.0,0.7955211258828728,0.051462292229017194,-0.06973517839032631,-0.018091963541917718,0.020284310273454093,-0.0056755134609068935,0.004995089988650493,0.072318981245021,0.032218905638914316,0.042332753407624386,0.00040081529743055995,0.0002405025621544159,0.032218905638914316],[0.044772489916806206,-0.04422393311879344,0.7955211258828728,1.0,0.056439265111384355,-0.04481428711917813,0.0690992586153369,0.022349338972775024,-0.021912966094926503,0.012364368730090182,0.07436296626510229,0.034724739340231986,0.03959048455013535,0.008731968446971087,0.011956704785993677,0.034724739340231986],[0.0013547800359385927,-0.0007031870770403777,0.051462292229017194,0.056439265111384355,1.0,0.05313502193569619,0.014638577461930783,0.03133268285866763,0.12389119770270618,-0.06942852298184592,-0.10326897128436137,0.03390407027787062,0.09308960475193687,0.002636287071121658,0.026636568441501852,0.03390407027787062],[-0.011038760668804447,0.011474697787602321,-0.06973517839032631,-0.04481428711917813,0.05313502193569619,1.0,-0.009565441593527945,-0.007190662572880235,0.038394070537798634,-0.1121356476272987,-0.045418344008467726,-0.001450850459492907,0.24316621929673105,-0.0025082096847781643,0.008986133735112478,-0.001450850459492907],[0.020221979898726497,-0.020098408097504152,-0.018091963541917718,0.0690992586153369,0.014638577461930783,-0.009565441593527945,1.0,0.0009578327862791514,0.012743133196534497,-0.004990203899465795,0.006045248736352739,-0.006511352507663627,0.003173713298892572,0.00465801191471984,0.010441213872052137,-0.006511352507663627],[0.0029478930901469177,-0.0027896364865318186,0.020284310273454093,0.022349338972775024,0.03133268285866763,-0.007190662572880235,0.0009578327862791514,1.0,-0.02907896735967378,-0.010416498464610634,-0.008439311359898335,0.010732864417091304,-0.005727357470911765,0.0008229323731096211,-0.0027996516940447364,0.010732864417091304],[0.004521837521066263,-0.005054611472827958,-0.0056755134609068935,-0.021912966094926503,0.12389119770270618,0.038394070537798634,0.012743133196534497,-0.02907896735967378,1.0,-0.06910776846441476,0.039783091766647516,-0.04844193722887198,0.11968828588022906,-0.003874207685469729,0.056361722410771295,-0.04844193722887198],[-0.025612163119464067,0.025358169806378266,0.004995089988650493,0.012364368730090182,-0.06942852298184592,-0.1121356476272987,-0.004990203899465795,-0.010416498464610634,-0.06910776846441476,1.0,0.1713772915007744,0.013789767889490493,-0.012782977717676823,0.0005008220026173363,0.0004452115143587245,0.013789767889490493],[0.00371449117360016,-0.003161587401928861,0.072318981245021,0.07436296626510229,-0.10326897128436137,-0.045418344008467726,0.006045248736352739,-0.008439311359898335,0.039783091766647516,0.1713772915007744,1.0,0.05412181514611781,-0.025331630386566526,0.004154971326511481,0.03634821816098148,0.05412181514611781],[0.0008593391859594821,-0.0004733122988164598,0.032218905638914316,0.034724739340231986,0.03390407027787062,-0.001450850459492907,-0.006511352507663627,0.010732864417091304,-0.04844193722887198,0.013789767889490493,0.05412181514611781,1.0,0.008678039709322016,-0.00028277036626843556,0.0014817685257622394,1.0],[0.003349695784457457,-0.00362595384227352,0.042332753407624386,0.03959048455013535,0.09308960475193687,0.24316621929673105,0.003173713298892572,-0.005727357470911765,0.11968828588022906,-0.012782977717676823,-0.025331630386566526,0.008678039709322016,1.0,0.0003970200021492923,0.037710852241431406,0.008678039709322006],[0.005638585907547228,-0.005576419151029909,0.00040081529743055995,0.008731968446971087,0.002636287071121658,-0.0025082096847781643,0.00465801191471984,0.0008229323731096211,-0.003874207685469729,0.0005008220026173363,0.004154971326511481,-0.00028277036626843556,0.0003970200021492923,1.0,0.0025042306716726707,-0.00028277036626843263],[0.015965051856754283,-0.015607868099628682,0.0002405025621544159,0.011956704785993677,0.026636568441501852,0.008986133735112478,0.010441213872052137,-0.0027996516940447364,0.056361722410771295,0.0004452115143587245,0.03634821816098148,0.0014817685257622394,0.037710852241431406,0.0025042306716726707,1.0,0.0014817685257622404],[0.0008593391859594821,-0.0004733122988164598,0.032218905638914316,0.034724739340231986,0.03390407027787062,-0.001450850459492907,-0.006511352507663627,0.010732864417091304,-0.04844193722887198,0.013789767889490493,0.05412181514611781,1.0,0.008678039709322006,-0.00028277036626843263,0.0014817685257622404,1.0]],\"type\":\"heatmap\",\"xaxis\":\"x\",\"yaxis\":\"y\",\"hovertemplate\":\"x: %{x}<br>y: %{y}<br>color: %{z}<extra></extra>\"}],                        {\"template\":{\"data\":{\"bar\":[{\"error_x\":{\"color\":\"#2a3f5f\"},\"error_y\":{\"color\":\"#2a3f5f\"},\"marker\":{\"line\":{\"color\":\"#E5ECF6\",\"width\":0.5},\"pattern\":{\"fillmode\":\"overlay\",\"size\":10,\"solidity\":0.2}},\"type\":\"bar\"}],\"barpolar\":[{\"marker\":{\"line\":{\"color\":\"#E5ECF6\",\"width\":0.5},\"pattern\":{\"fillmode\":\"overlay\",\"size\":10,\"solidity\":0.2}},\"type\":\"barpolar\"}],\"carpet\":[{\"aaxis\":{\"endlinecolor\":\"#2a3f5f\",\"gridcolor\":\"white\",\"linecolor\":\"white\",\"minorgridcolor\":\"white\",\"startlinecolor\":\"#2a3f5f\"},\"baxis\":{\"endlinecolor\":\"#2a3f5f\",\"gridcolor\":\"white\",\"linecolor\":\"white\",\"minorgridcolor\":\"white\",\"startlinecolor\":\"#2a3f5f\"},\"type\":\"carpet\"}],\"choropleth\":[{\"colorbar\":{\"outlinewidth\":0,\"ticks\":\"\"},\"type\":\"choropleth\"}],\"contour\":[{\"colorbar\":{\"outlinewidth\":0,\"ticks\":\"\"},\"colorscale\":[[0.0,\"#0d0887\"],[0.1111111111111111,\"#46039f\"],[0.2222222222222222,\"#7201a8\"],[0.3333333333333333,\"#9c179e\"],[0.4444444444444444,\"#bd3786\"],[0.5555555555555556,\"#d8576b\"],[0.6666666666666666,\"#ed7953\"],[0.7777777777777778,\"#fb9f3a\"],[0.8888888888888888,\"#fdca26\"],[1.0,\"#f0f921\"]],\"type\":\"contour\"}],\"contourcarpet\":[{\"colorbar\":{\"outlinewidth\":0,\"ticks\":\"\"},\"type\":\"contourcarpet\"}],\"heatmap\":[{\"colorbar\":{\"outlinewidth\":0,\"ticks\":\"\"},\"colorscale\":[[0.0,\"#0d0887\"],[0.1111111111111111,\"#46039f\"],[0.2222222222222222,\"#7201a8\"],[0.3333333333333333,\"#9c179e\"],[0.4444444444444444,\"#bd3786\"],[0.5555555555555556,\"#d8576b\"],[0.6666666666666666,\"#ed7953\"],[0.7777777777777778,\"#fb9f3a\"],[0.8888888888888888,\"#fdca26\"],[1.0,\"#f0f921\"]],\"type\":\"heatmap\"}],\"heatmapgl\":[{\"colorbar\":{\"outlinewidth\":0,\"ticks\":\"\"},\"colorscale\":[[0.0,\"#0d0887\"],[0.1111111111111111,\"#46039f\"],[0.2222222222222222,\"#7201a8\"],[0.3333333333333333,\"#9c179e\"],[0.4444444444444444,\"#bd3786\"],[0.5555555555555556,\"#d8576b\"],[0.6666666666666666,\"#ed7953\"],[0.7777777777777778,\"#fb9f3a\"],[0.8888888888888888,\"#fdca26\"],[1.0,\"#f0f921\"]],\"type\":\"heatmapgl\"}],\"histogram\":[{\"marker\":{\"pattern\":{\"fillmode\":\"overlay\",\"size\":10,\"solidity\":0.2}},\"type\":\"histogram\"}],\"histogram2d\":[{\"colorbar\":{\"outlinewidth\":0,\"ticks\":\"\"},\"colorscale\":[[0.0,\"#0d0887\"],[0.1111111111111111,\"#46039f\"],[0.2222222222222222,\"#7201a8\"],[0.3333333333333333,\"#9c179e\"],[0.4444444444444444,\"#bd3786\"],[0.5555555555555556,\"#d8576b\"],[0.6666666666666666,\"#ed7953\"],[0.7777777777777778,\"#fb9f3a\"],[0.8888888888888888,\"#fdca26\"],[1.0,\"#f0f921\"]],\"type\":\"histogram2d\"}],\"histogram2dcontour\":[{\"colorbar\":{\"outlinewidth\":0,\"ticks\":\"\"},\"colorscale\":[[0.0,\"#0d0887\"],[0.1111111111111111,\"#46039f\"],[0.2222222222222222,\"#7201a8\"],[0.3333333333333333,\"#9c179e\"],[0.4444444444444444,\"#bd3786\"],[0.5555555555555556,\"#d8576b\"],[0.6666666666666666,\"#ed7953\"],[0.7777777777777778,\"#fb9f3a\"],[0.8888888888888888,\"#fdca26\"],[1.0,\"#f0f921\"]],\"type\":\"histogram2dcontour\"}],\"mesh3d\":[{\"colorbar\":{\"outlinewidth\":0,\"ticks\":\"\"},\"type\":\"mesh3d\"}],\"parcoords\":[{\"line\":{\"colorbar\":{\"outlinewidth\":0,\"ticks\":\"\"}},\"type\":\"parcoords\"}],\"pie\":[{\"automargin\":true,\"type\":\"pie\"}],\"scatter\":[{\"marker\":{\"colorbar\":{\"outlinewidth\":0,\"ticks\":\"\"}},\"type\":\"scatter\"}],\"scatter3d\":[{\"line\":{\"colorbar\":{\"outlinewidth\":0,\"ticks\":\"\"}},\"marker\":{\"colorbar\":{\"outlinewidth\":0,\"ticks\":\"\"}},\"type\":\"scatter3d\"}],\"scattercarpet\":[{\"marker\":{\"colorbar\":{\"outlinewidth\":0,\"ticks\":\"\"}},\"type\":\"scattercarpet\"}],\"scattergeo\":[{\"marker\":{\"colorbar\":{\"outlinewidth\":0,\"ticks\":\"\"}},\"type\":\"scattergeo\"}],\"scattergl\":[{\"marker\":{\"colorbar\":{\"outlinewidth\":0,\"ticks\":\"\"}},\"type\":\"scattergl\"}],\"scattermapbox\":[{\"marker\":{\"colorbar\":{\"outlinewidth\":0,\"ticks\":\"\"}},\"type\":\"scattermapbox\"}],\"scatterpolar\":[{\"marker\":{\"colorbar\":{\"outlinewidth\":0,\"ticks\":\"\"}},\"type\":\"scatterpolar\"}],\"scatterpolargl\":[{\"marker\":{\"colorbar\":{\"outlinewidth\":0,\"ticks\":\"\"}},\"type\":\"scatterpolargl\"}],\"scatterternary\":[{\"marker\":{\"colorbar\":{\"outlinewidth\":0,\"ticks\":\"\"}},\"type\":\"scatterternary\"}],\"surface\":[{\"colorbar\":{\"outlinewidth\":0,\"ticks\":\"\"},\"colorscale\":[[0.0,\"#0d0887\"],[0.1111111111111111,\"#46039f\"],[0.2222222222222222,\"#7201a8\"],[0.3333333333333333,\"#9c179e\"],[0.4444444444444444,\"#bd3786\"],[0.5555555555555556,\"#d8576b\"],[0.6666666666666666,\"#ed7953\"],[0.7777777777777778,\"#fb9f3a\"],[0.8888888888888888,\"#fdca26\"],[1.0,\"#f0f921\"]],\"type\":\"surface\"}],\"table\":[{\"cells\":{\"fill\":{\"color\":\"#EBF0F8\"},\"line\":{\"color\":\"white\"}},\"header\":{\"fill\":{\"color\":\"#C8D4E3\"},\"line\":{\"color\":\"white\"}},\"type\":\"table\"}]},\"layout\":{\"annotationdefaults\":{\"arrowcolor\":\"#2a3f5f\",\"arrowhead\":0,\"arrowwidth\":1},\"autotypenumbers\":\"strict\",\"coloraxis\":{\"colorbar\":{\"outlinewidth\":0,\"ticks\":\"\"}},\"colorscale\":{\"diverging\":[[0,\"#8e0152\"],[0.1,\"#c51b7d\"],[0.2,\"#de77ae\"],[0.3,\"#f1b6da\"],[0.4,\"#fde0ef\"],[0.5,\"#f7f7f7\"],[0.6,\"#e6f5d0\"],[0.7,\"#b8e186\"],[0.8,\"#7fbc41\"],[0.9,\"#4d9221\"],[1,\"#276419\"]],\"sequential\":[[0.0,\"#0d0887\"],[0.1111111111111111,\"#46039f\"],[0.2222222222222222,\"#7201a8\"],[0.3333333333333333,\"#9c179e\"],[0.4444444444444444,\"#bd3786\"],[0.5555555555555556,\"#d8576b\"],[0.6666666666666666,\"#ed7953\"],[0.7777777777777778,\"#fb9f3a\"],[0.8888888888888888,\"#fdca26\"],[1.0,\"#f0f921\"]],\"sequentialminus\":[[0.0,\"#0d0887\"],[0.1111111111111111,\"#46039f\"],[0.2222222222222222,\"#7201a8\"],[0.3333333333333333,\"#9c179e\"],[0.4444444444444444,\"#bd3786\"],[0.5555555555555556,\"#d8576b\"],[0.6666666666666666,\"#ed7953\"],[0.7777777777777778,\"#fb9f3a\"],[0.8888888888888888,\"#fdca26\"],[1.0,\"#f0f921\"]]},\"colorway\":[\"#636efa\",\"#EF553B\",\"#00cc96\",\"#ab63fa\",\"#FFA15A\",\"#19d3f3\",\"#FF6692\",\"#B6E880\",\"#FF97FF\",\"#FECB52\"],\"font\":{\"color\":\"#2a3f5f\"},\"geo\":{\"bgcolor\":\"white\",\"lakecolor\":\"white\",\"landcolor\":\"#E5ECF6\",\"showlakes\":true,\"showland\":true,\"subunitcolor\":\"white\"},\"hoverlabel\":{\"align\":\"left\"},\"hovermode\":\"closest\",\"mapbox\":{\"style\":\"light\"},\"paper_bgcolor\":\"white\",\"plot_bgcolor\":\"#E5ECF6\",\"polar\":{\"angularaxis\":{\"gridcolor\":\"white\",\"linecolor\":\"white\",\"ticks\":\"\"},\"bgcolor\":\"#E5ECF6\",\"radialaxis\":{\"gridcolor\":\"white\",\"linecolor\":\"white\",\"ticks\":\"\"}},\"scene\":{\"xaxis\":{\"backgroundcolor\":\"#E5ECF6\",\"gridcolor\":\"white\",\"gridwidth\":2,\"linecolor\":\"white\",\"showbackground\":true,\"ticks\":\"\",\"zerolinecolor\":\"white\"},\"yaxis\":{\"backgroundcolor\":\"#E5ECF6\",\"gridcolor\":\"white\",\"gridwidth\":2,\"linecolor\":\"white\",\"showbackground\":true,\"ticks\":\"\",\"zerolinecolor\":\"white\"},\"zaxis\":{\"backgroundcolor\":\"#E5ECF6\",\"gridcolor\":\"white\",\"gridwidth\":2,\"linecolor\":\"white\",\"showbackground\":true,\"ticks\":\"\",\"zerolinecolor\":\"white\"}},\"shapedefaults\":{\"line\":{\"color\":\"#2a3f5f\"}},\"ternary\":{\"aaxis\":{\"gridcolor\":\"white\",\"linecolor\":\"white\",\"ticks\":\"\"},\"baxis\":{\"gridcolor\":\"white\",\"linecolor\":\"white\",\"ticks\":\"\"},\"bgcolor\":\"#E5ECF6\",\"caxis\":{\"gridcolor\":\"white\",\"linecolor\":\"white\",\"ticks\":\"\"}},\"title\":{\"x\":0.05},\"xaxis\":{\"automargin\":true,\"gridcolor\":\"white\",\"linecolor\":\"white\",\"ticks\":\"\",\"title\":{\"standoff\":15},\"zerolinecolor\":\"white\",\"zerolinewidth\":2},\"yaxis\":{\"automargin\":true,\"gridcolor\":\"white\",\"linecolor\":\"white\",\"ticks\":\"\",\"title\":{\"standoff\":15},\"zerolinecolor\":\"white\",\"zerolinewidth\":2}}},\"xaxis\":{\"anchor\":\"y\",\"domain\":[0.0,1.0],\"scaleanchor\":\"y\",\"constrain\":\"domain\"},\"yaxis\":{\"anchor\":\"x\",\"domain\":[0.0,1.0],\"autorange\":\"reversed\",\"constrain\":\"domain\"},\"coloraxis\":{\"colorscale\":[[0.0,\"#0d0887\"],[0.1111111111111111,\"#46039f\"],[0.2222222222222222,\"#7201a8\"],[0.3333333333333333,\"#9c179e\"],[0.4444444444444444,\"#bd3786\"],[0.5555555555555556,\"#d8576b\"],[0.6666666666666666,\"#ed7953\"],[0.7777777777777778,\"#fb9f3a\"],[0.8888888888888888,\"#fdca26\"],[1.0,\"#f0f921\"]]},\"margin\":{\"t\":60},\"title\":{\"text\":\"Correlation Matrix Heatmap\"}},                        {\"responsive\": true}                    ).then(function(){\n",
       "                            \n",
       "var gd = document.getElementById('0560cc87-6a16-47da-a33e-4174d75eec34');\n",
       "var x = new MutationObserver(function (mutations, observer) {{\n",
       "        var display = window.getComputedStyle(gd).display;\n",
       "        if (!display || display === 'none') {{\n",
       "            console.log([gd, 'removed!']);\n",
       "            Plotly.purge(gd);\n",
       "            observer.disconnect();\n",
       "        }}\n",
       "}});\n",
       "\n",
       "// Listen for the removal of the full notebook cells\n",
       "var notebookContainer = gd.closest('#notebook-container');\n",
       "if (notebookContainer) {{\n",
       "    x.observe(notebookContainer, {childList: true});\n",
       "}}\n",
       "\n",
       "// Listen for the clearing of the current output cell\n",
       "var outputEl = gd.closest('.output');\n",
       "if (outputEl) {{\n",
       "    x.observe(outputEl, {childList: true});\n",
       "}}\n",
       "\n",
       "                        })                };                });            </script>        </div>"
      ]
     },
     "metadata": {},
     "output_type": "display_data"
    }
   ],
   "source": [
    "correlation_matrix = top_PC_df.corr()\n",
    "\n",
    "# Create a heatmap using Plotly\n",
    "fig = px.imshow(correlation_matrix)\n",
    "fig.update_layout(title=\"Correlation Matrix Heatmap\")\n",
    "fig.show()"
   ]
  },
  {
   "cell_type": "code",
   "execution_count": 15,
   "id": "7a775614",
   "metadata": {},
   "outputs": [
    {
     "name": "stdout",
     "output_type": "stream",
     "text": [
      "<class 'pandas.core.frame.DataFrame'>\n",
      "Int64Index: 262773 entries, 0 to 279706\n",
      "Data columns (total 16 columns):\n",
      " #   Column                  Non-Null Count   Dtype  \n",
      "---  ------                  --------------   -----  \n",
      " 0   latitude                262773 non-null  float64\n",
      " 1   longitude               262773 non-null  float64\n",
      " 2   year                    262773 non-null  float64\n",
      " 3   covid                   262773 non-null  int64  \n",
      " 4   number_injured          262773 non-null  float64\n",
      " 5   intersection_indicator  262773 non-null  int64  \n",
      " 6   month                   262773 non-null  int64  \n",
      " 7   number_dead             262773 non-null  float64\n",
      " 8   vehicles_involved       262773 non-null  float64\n",
      " 9   parking                 262773 non-null  int64  \n",
      " 10  hitrun                  262773 non-null  int64  \n",
      " 11  day_of_week             262773 non-null  int64  \n",
      " 12  crash_Angle             262773 non-null  uint8  \n",
      " 13  day_of_month            262773 non-null  int64  \n",
      " 14  hour                    262773 non-null  int64  \n",
      " 15  day_of_week             262773 non-null  int64  \n",
      "dtypes: float64(6), int64(9), uint8(1)\n",
      "memory usage: 32.3 MB\n"
     ]
    }
   ],
   "source": [
    "top_PC_df.info()"
   ]
  },
  {
   "cell_type": "code",
   "execution_count": null,
   "id": "1867c90a",
   "metadata": {},
   "outputs": [],
   "source": []
  }
 ],
 "metadata": {
  "kernelspec": {
   "display_name": "finalproj",
   "language": "python",
   "name": "finalproj"
  },
  "language_info": {
   "codemirror_mode": {
    "name": "ipython",
    "version": 3
   },
   "file_extension": ".py",
   "mimetype": "text/x-python",
   "name": "python",
   "nbconvert_exporter": "python",
   "pygments_lexer": "ipython3",
   "version": "3.9.12"
  }
 },
 "nbformat": 4,
 "nbformat_minor": 5
}
